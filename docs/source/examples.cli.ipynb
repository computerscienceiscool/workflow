{
 "cells": [
  {
   "cell_type": "markdown",
   "id": "72125898",
   "metadata": {},
   "source": [
    "# command line examples"
   ]
  },
  {
   "cell_type": "markdown",
   "id": "ad34d6f2",
   "metadata": {},
   "source": [
    "## evaluating configurations"
   ]
  },
  {
   "cell_type": "markdown",
   "id": "699abc83",
   "metadata": {},
   "source": [
    "A very simple example of evaluating energies/forces of a configuration with a machine learning potential.\n",
    "\n",
    "Potential and input files are stored in `docs/example_files/cli`, and example is written assuming that jupyter server is using the directory containing the example notebook as the current working directory."
   ]
  },
  {
   "cell_type": "code",
   "execution_count": 36,
   "id": "28d02f61",
   "metadata": {},
   "outputs": [],
   "source": [
    "# make sure for the purpose of this example that the output file doesn't exist yet\n",
    "from pathlib import Path\n",
    "Path(\"GAP_evaluated_wfl_eval_configs.xyz\").unlink()"
   ]
  },
  {
   "cell_type": "code",
   "execution_count": 37,
   "id": "6dec15c0",
   "metadata": {},
   "outputs": [],
   "source": [
    "!wfl eval gap -pf ../example_files/cli/GAP.xml \\\n",
    "              -i ../example_files/cli/wfl_eval_configs.xyz \\\n",
    "              -o GAP_evaluated_wfl_eval_configs.xyz"
   ]
  },
  {
   "cell_type": "code",
   "execution_count": 38,
   "id": "f91acc7b",
   "metadata": {
    "nbsphinx": "hidden"
   },
   "outputs": [],
   "source": [
    "import numpy as np\n",
    "import ase.io\n",
    "\n",
    "for atoms in ase.io.read(\"GAP_evaluated_wfl_eval_configs.xyz\", \":\"):\n",
    "    assert np.allclose(atoms.arrays[\"ref_error_calc_forces\"], atoms.arrays[\"gap_forces\"], atol=1.0e-6)"
   ]
  }
 ],
 "metadata": {
  "kernelspec": {
   "display_name": "Python 3 (ipykernel)",
   "language": "python",
   "name": "python3"
  },
  "language_info": {
   "codemirror_mode": {
    "name": "ipython",
    "version": 3
   },
   "file_extension": ".py",
   "mimetype": "text/x-python",
   "name": "python",
   "nbconvert_exporter": "python",
   "pygments_lexer": "ipython3",
   "version": "3.9.13"
  }
 },
 "nbformat": 4,
 "nbformat_minor": 5
}
